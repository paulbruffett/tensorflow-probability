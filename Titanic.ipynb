{
 "cells": [
  {
   "cell_type": "code",
   "execution_count": 57,
   "metadata": {},
   "outputs": [],
   "source": [
    "import tensorflow_probability as tfp\n",
    "tfd = tfp.distributions\n",
    "tfb = tfp.bijectors\n",
    "import tensorflow as tf\n",
    "import numpy as np\n",
    "import pandas as pd\n",
    "\n",
    "import os\n",
    "\n",
    "matplotlib_style = 'fivethirtyeight'\n",
    "import matplotlib.pyplot as plt; plt.style.use(matplotlib_style)\n",
    "import matplotlib.axes as axes;\n",
    "from matplotlib.patches import Ellipse\n",
    "%matplotlib inline\n",
    "import seaborn as sns; sns.set_context('notebook')\n",
    "from IPython.core.pylabtools import figsize\n",
    "\n",
    "import tensorflow_datasets as tfds"
   ]
  },
  {
   "cell_type": "markdown",
   "metadata": {},
   "source": [
    "# Load the data\n",
    "Loading and preparing the data, we only really need the passenger's class and if they survived.  Class is from 0 to 2 for first through third class."
   ]
  },
  {
   "cell_type": "code",
   "execution_count": 58,
   "metadata": {},
   "outputs": [
    {
     "name": "stdout",
     "output_type": "stream",
     "text": [
      "<_OptionsDataset shapes: {features: {age: (), boat: (), body: (), cabin: (), embarked: (), fare: (), home.dest: (), name: (), parch: (), pclass: (), sex: (), sibsp: (), ticket: ()}, survived: ()}, types: {features: {age: tf.float32, boat: tf.string, body: tf.int32, cabin: tf.string, embarked: tf.int64, fare: tf.float32, home.dest: tf.string, name: tf.string, parch: tf.int32, pclass: tf.int64, sex: tf.int64, sibsp: tf.int32, ticket: tf.string}, survived: tf.int64}>\n"
     ]
    }
   ],
   "source": [
    "builder = tfds.builder('titanic')\n",
    "\n",
    "builder.download_and_prepare()\n",
    "\n",
    "ds = builder.as_dataset(split='train', shuffle_files=True)\n",
    "print(ds)"
   ]
  },
  {
   "cell_type": "code",
   "execution_count": 59,
   "metadata": {},
   "outputs": [],
   "source": [
    "ds = tfds.load('titanic', split='train')\n",
    "#ds = ds.take(1)  # Only take a single example\n",
    "\n",
    "ds = tfds.as_dataframe(ds)"
   ]
  },
  {
   "cell_type": "code",
   "execution_count": 60,
   "metadata": {},
   "outputs": [
    {
     "data": {
      "text/html": [
       "<div>\n",
       "<style scoped>\n",
       "    .dataframe tbody tr th:only-of-type {\n",
       "        vertical-align: middle;\n",
       "    }\n",
       "\n",
       "    .dataframe tbody tr th {\n",
       "        vertical-align: top;\n",
       "    }\n",
       "\n",
       "    .dataframe thead th {\n",
       "        text-align: right;\n",
       "    }\n",
       "</style>\n",
       "<table border=\"1\" class=\"dataframe\">\n",
       "  <thead>\n",
       "    <tr style=\"text-align: right;\">\n",
       "      <th></th>\n",
       "      <th>features/age</th>\n",
       "      <th>features/boat</th>\n",
       "      <th>features/body</th>\n",
       "      <th>features/cabin</th>\n",
       "      <th>features/embarked</th>\n",
       "      <th>features/fare</th>\n",
       "      <th>features/home.dest</th>\n",
       "      <th>features/name</th>\n",
       "      <th>features/parch</th>\n",
       "      <th>features/pclass</th>\n",
       "      <th>features/sex</th>\n",
       "      <th>features/sibsp</th>\n",
       "      <th>features/ticket</th>\n",
       "      <th>survived</th>\n",
       "    </tr>\n",
       "  </thead>\n",
       "  <tbody>\n",
       "    <tr>\n",
       "      <th>0</th>\n",
       "      <td>30.0</td>\n",
       "      <td>b'Unknown'</td>\n",
       "      <td>-1</td>\n",
       "      <td>b'Unknown'</td>\n",
       "      <td>2</td>\n",
       "      <td>13.0000</td>\n",
       "      <td>b'Sarnia, ON'</td>\n",
       "      <td>b'McCrie, Mr. James Matthew'</td>\n",
       "      <td>0</td>\n",
       "      <td>1</td>\n",
       "      <td>0</td>\n",
       "      <td>0</td>\n",
       "      <td>b'233478'</td>\n",
       "      <td>0</td>\n",
       "    </tr>\n",
       "    <tr>\n",
       "      <th>1</th>\n",
       "      <td>37.0</td>\n",
       "      <td>b'Unknown'</td>\n",
       "      <td>98</td>\n",
       "      <td>b'Unknown'</td>\n",
       "      <td>2</td>\n",
       "      <td>7.9250</td>\n",
       "      <td>b'Ruotsinphytaa, Finland New York, NY'</td>\n",
       "      <td>b'Gustafsson, Mr. Anders Vilhelm'</td>\n",
       "      <td>0</td>\n",
       "      <td>2</td>\n",
       "      <td>0</td>\n",
       "      <td>2</td>\n",
       "      <td>b'3101276'</td>\n",
       "      <td>0</td>\n",
       "    </tr>\n",
       "    <tr>\n",
       "      <th>2</th>\n",
       "      <td>28.0</td>\n",
       "      <td>b'9'</td>\n",
       "      <td>-1</td>\n",
       "      <td>b'Unknown'</td>\n",
       "      <td>2</td>\n",
       "      <td>13.0000</td>\n",
       "      <td>b'Spain'</td>\n",
       "      <td>b'Reynaldo, Ms. Encarnacion'</td>\n",
       "      <td>0</td>\n",
       "      <td>1</td>\n",
       "      <td>1</td>\n",
       "      <td>0</td>\n",
       "      <td>b'230434'</td>\n",
       "      <td>1</td>\n",
       "    </tr>\n",
       "    <tr>\n",
       "      <th>3</th>\n",
       "      <td>18.0</td>\n",
       "      <td>b'Unknown'</td>\n",
       "      <td>-1</td>\n",
       "      <td>b'Unknown'</td>\n",
       "      <td>2</td>\n",
       "      <td>73.5000</td>\n",
       "      <td>b'Lyndhurst, England'</td>\n",
       "      <td>b'Davies, Mr. Charles Henry'</td>\n",
       "      <td>0</td>\n",
       "      <td>1</td>\n",
       "      <td>0</td>\n",
       "      <td>0</td>\n",
       "      <td>b'S.O.C. 14879'</td>\n",
       "      <td>0</td>\n",
       "    </tr>\n",
       "    <tr>\n",
       "      <th>4</th>\n",
       "      <td>-1.0</td>\n",
       "      <td>b'Unknown'</td>\n",
       "      <td>-1</td>\n",
       "      <td>b'Unknown'</td>\n",
       "      <td>0</td>\n",
       "      <td>7.8958</td>\n",
       "      <td>b'Unknown'</td>\n",
       "      <td>b'Gheorgheff, Mr. Stanio'</td>\n",
       "      <td>0</td>\n",
       "      <td>2</td>\n",
       "      <td>0</td>\n",
       "      <td>0</td>\n",
       "      <td>b'349254'</td>\n",
       "      <td>0</td>\n",
       "    </tr>\n",
       "  </tbody>\n",
       "</table>\n",
       "</div>"
      ],
      "text/plain": [
       "   features/age features/boat  features/body features/cabin  \\\n",
       "0          30.0    b'Unknown'             -1     b'Unknown'   \n",
       "1          37.0    b'Unknown'             98     b'Unknown'   \n",
       "2          28.0          b'9'             -1     b'Unknown'   \n",
       "3          18.0    b'Unknown'             -1     b'Unknown'   \n",
       "4          -1.0    b'Unknown'             -1     b'Unknown'   \n",
       "\n",
       "   features/embarked  features/fare                      features/home.dest  \\\n",
       "0                  2        13.0000                           b'Sarnia, ON'   \n",
       "1                  2         7.9250  b'Ruotsinphytaa, Finland New York, NY'   \n",
       "2                  2        13.0000                                b'Spain'   \n",
       "3                  2        73.5000                   b'Lyndhurst, England'   \n",
       "4                  0         7.8958                              b'Unknown'   \n",
       "\n",
       "                       features/name  features/parch  features/pclass  \\\n",
       "0       b'McCrie, Mr. James Matthew'               0                1   \n",
       "1  b'Gustafsson, Mr. Anders Vilhelm'               0                2   \n",
       "2       b'Reynaldo, Ms. Encarnacion'               0                1   \n",
       "3       b'Davies, Mr. Charles Henry'               0                1   \n",
       "4          b'Gheorgheff, Mr. Stanio'               0                2   \n",
       "\n",
       "   features/sex  features/sibsp  features/ticket  survived  \n",
       "0             0               0        b'233478'         0  \n",
       "1             0               2       b'3101276'         0  \n",
       "2             1               0        b'230434'         1  \n",
       "3             0               0  b'S.O.C. 14879'         0  \n",
       "4             0               0        b'349254'         0  "
      ]
     },
     "execution_count": 60,
     "metadata": {},
     "output_type": "execute_result"
    }
   ],
   "source": [
    "ds.head()"
   ]
  },
  {
   "cell_type": "code",
   "execution_count": 61,
   "metadata": {},
   "outputs": [
    {
     "name": "stdout",
     "output_type": "stream",
     "text": [
      "0.6191950464396285 0.4296028880866426 0.2552891396332863\n"
     ]
    }
   ],
   "source": [
    "second = ds[ds[\"features/pclass\"]==1]['survived'].values\n",
    "third = ds[ds[\"features/pclass\"]==2]['survived'].values\n",
    "first = ds[ds[\"features/pclass\"]==0]['survived'].values\n",
    "print(first.mean(), second.mean(),third.mean())"
   ]
  },
  {
   "cell_type": "code",
   "execution_count": 62,
   "metadata": {},
   "outputs": [],
   "source": [
    "titanic_data =  ds[[\"features/pclass\",\"survived\"]].values\n",
    "\n",
    "titanic_data = tf.convert_to_tensor(titanic_data, dtype=tf.float32)\n",
    "pass_class = titanic_data[:, 0]\n",
    "pass_survival = titanic_data[:, 1]\n",
    "pass_survival = tf.convert_to_tensor(pass_survival, dtype=tf.float32)\n"
   ]
  },
  {
   "cell_type": "markdown",
   "metadata": {},
   "source": [
    "# Joint Log Probability\n",
    "This function evaluates the log of the joint probability that the model generated the observed data.  \n",
    "\n",
    "The Markov chain Monte Carlo (MCMC) algorithm guesses at unknown input values and calculates how likely its set of arguments is."
   ]
  },
  {
   "cell_type": "code",
   "execution_count": 63,
   "metadata": {},
   "outputs": [],
   "source": [
    "def titanic_joint_log_prob(survival, pass_class, alpha, beta):\n",
    "    \"\"\"\n",
    "    Joint log probability optimization function.\n",
    "        \n",
    "    Args:\n",
    "      survival: did the passenger survive or die?\n",
    "      pass_class: what class was the passenger on the ship\n",
    "      alpha: one of the inputs of the HMC\n",
    "      beta: one of the inputs of the HMC\n",
    "    Returns: \n",
    "      Joint log probability optimization function.\n",
    "    \"\"\"\n",
    "    rv_alpha = tfd.Normal(loc=0., scale=1000.)\n",
    "    rv_beta = tfd.Normal(loc=0., scale=1000.)\n",
    "\n",
    "    # make this into a logit\n",
    "    logistic_p = 1.0/(1. + tf.exp(beta * tf.cast(pass_class, tf.float32) + alpha))\n",
    "    rv_observed = tfd.Bernoulli(probs=logistic_p)\n",
    "    \n",
    "    return (\n",
    "        rv_alpha.log_prob(alpha)\n",
    "        + rv_beta.log_prob(beta)\n",
    "        + tf.reduce_sum(rv_observed.log_prob(survival))\n",
    "    )"
   ]
  },
  {
   "cell_type": "code",
   "execution_count": 64,
   "metadata": {},
   "outputs": [
    {
     "name": "stdout",
     "output_type": "stream",
     "text": [
      "Logistic P  tf.Tensor([0.3100255  0.37754068 0.3100255  ... 0.37754068 0.37754068 0.3100255 ], shape=(1309,), dtype=float32)\n",
      "Bernoulli sample  tf.Tensor([[0 1 0 ... 1 1 0]], shape=(1, 1309), dtype=int32)\n"
     ]
    },
    {
     "data": {
      "text/plain": [
       "<tf.Tensor: shape=(), dtype=float32, numpy=-953.0778>"
      ]
     },
     "execution_count": 64,
     "metadata": {},
     "output_type": "execute_result"
    }
   ],
   "source": [
    "survival = pass_survival\n",
    "beta = -0.3\n",
    "alpha = 1.1\n",
    "\n",
    "rv_alpha = tfd.Normal(loc=0., scale=1000.)\n",
    "rv_beta = tfd.Normal(loc=0., scale=1000.)\n",
    "\n",
    "# make this into a logit\n",
    "logistic_p = 1.0/(1. + tf.exp(beta * tf.cast(pass_class, tf.float32) + alpha))\n",
    "print(\"Logistic P \", logistic_p)\n",
    "rv_observed = tfd.Bernoulli(probs=logistic_p)\n",
    "print(\"Bernoulli sample \", rv_observed.sample(1))\n",
    "\n",
    "rv_alpha.log_prob(alpha) + rv_beta.log_prob(beta) + tf.reduce_sum(rv_observed.log_prob(survival))"
   ]
  },
  {
   "cell_type": "code",
   "execution_count": 65,
   "metadata": {},
   "outputs": [],
   "source": [
    "number_of_steps = 10000 \n",
    "burnin = 2000 \n",
    "leapfrog_steps=40\n",
    "\n",
    "\n",
    "# Set the chain's start state.\n",
    "initial_chain_state = [\n",
    "    0. * tf.ones([], dtype=tf.float32),\n",
    "    0. * tf.ones([], dtype=tf.float32)\n",
    "]\n",
    "\n",
    "\n",
    "unnormalized_posterior_log_prob = lambda *args: titanic_joint_log_prob(pass_survival, pass_class, *args)\n",
    "\n",
    "# Create an HMC TransitionKernel\n",
    "hmc_kernel = tfp.mcmc.HamiltonianMonteCarlo(\n",
    "                target_log_prob_fn=unnormalized_posterior_log_prob,\n",
    "                 step_size=0.065,\n",
    "                 num_leapfrog_steps=leapfrog_steps)"
   ]
  },
  {
   "cell_type": "code",
   "execution_count": 66,
   "metadata": {},
   "outputs": [],
   "source": [
    "# Apply a simple step size adaptation during burnin\n",
    "@tf.function\n",
    "def run_chain():\n",
    "  adaptive_kernel = tfp.mcmc.SimpleStepSizeAdaptation(\n",
    "    hmc_kernel,\n",
    "      num_adaptation_steps=int(.8 * burnin),\n",
    "      target_accept_prob=np.float64(.65))\n",
    "\n",
    "  return tfp.mcmc.sample_chain(\n",
    "    num_results=number_of_steps,\n",
    "    num_burnin_steps=burnin,\n",
    "    current_state=initial_chain_state,\n",
    "    kernel=adaptive_kernel,\n",
    "    trace_fn=lambda cs, kr: kr)"
   ]
  },
  {
   "cell_type": "code",
   "execution_count": 67,
   "metadata": {},
   "outputs": [],
   "source": [
    "samples, kernel_results = run_chain()"
   ]
  },
  {
   "cell_type": "code",
   "execution_count": 68,
   "metadata": {},
   "outputs": [
    {
     "name": "stdout",
     "output_type": "stream",
     "text": [
      "acceptance rate: 0.4778\n"
     ]
    }
   ],
   "source": [
    "print(\"acceptance rate: {}\".format(\n",
    "    kernel_results.inner_results.is_accepted.numpy().mean()))"
   ]
  },
  {
   "cell_type": "code",
   "execution_count": 69,
   "metadata": {},
   "outputs": [
    {
     "data": {
      "text/plain": [
       "<tf.Tensor: shape=(10000,), dtype=float32, numpy=\n",
       "array([0.68922293, 0.827954  , 0.827954  , ..., 0.8044293 , 0.74565953,\n",
       "       0.74565953], dtype=float32)>"
      ]
     },
     "execution_count": 69,
     "metadata": {},
     "output_type": "execute_result"
    }
   ],
   "source": [
    "samples[1]"
   ]
  },
  {
   "cell_type": "code",
   "execution_count": 70,
   "metadata": {},
   "outputs": [
    {
     "data": {
      "text/plain": [
       "<matplotlib.legend.Legend at 0x7f80b1162790>"
      ]
     },
     "execution_count": 70,
     "metadata": {},
     "output_type": "execute_result"
    },
    {
     "data": {
      "image/png": "[encoded data removed]",
      "text/plain": [
       "<Figure size 900x900 with 2 Axes>"
      ]
     },
     "metadata": {
      "needs_background": "light"
     },
     "output_type": "display_data"
    }
   ],
   "source": [
    "plt.figure(figsize(12.5, 12.5))\n",
    "\n",
    "#histogram of posteriors\n",
    "\n",
    "ax = plt.subplot(211)\n",
    "\n",
    "plt.hist(samples[0].numpy(), histtype='stepfilled', bins=25, alpha=0.85,\n",
    "         label=\"posterior of $p_B$\", color='#FAA43A', density=True)\n",
    "plt.legend(loc=\"upper right\")\n",
    "\n",
    "ax = plt.subplot(212)\n",
    "\n",
    "plt.hist(samples[1].numpy(), histtype='stepfilled', bins=25, alpha=0.85,\n",
    "         label=\"posterior of $p_A$\", color='#B2912F', density=True)\n",
    "plt.legend(loc=\"upper right\")"
   ]
  },
  {
   "cell_type": "code",
   "execution_count": 71,
   "metadata": {},
   "outputs": [
    {
     "name": "stdout",
     "output_type": "stream",
     "text": [
      "beta mean: tf.Tensor(0.7788918, shape=(), dtype=float32)\n",
      "alpha mean: tf.Tensor(-0.4889146, shape=(), dtype=float32)\n"
     ]
    }
   ],
   "source": [
    "alpha_samples_1d_ = samples[0][:, None]  # best to make them 1d\n",
    "beta_samples_1d_ = samples[1][:, None]\n",
    "\n",
    "beta_mean = tf.reduce_mean(beta_samples_1d_.numpy().T[0])\n",
    "alpha_mean = tf.reduce_mean(alpha_samples_1d_.numpy().T[0])\n",
    "\n",
    "\n",
    "print(\"beta mean:\", beta_mean)\n",
    "print(\"alpha mean:\", alpha_mean)\n",
    "def logistic(x, beta, alpha=0):\n",
    "    \"\"\"\n",
    "    Logistic function with alpha and beta.\n",
    "        \n",
    "    Args:\n",
    "      x: independent variable\n",
    "      beta: beta term \n",
    "      alpha: alpha term\n",
    "    Returns: \n",
    "      Logistic function\n",
    "    \"\"\"\n",
    "    return 1.0 / (1.0 + tf.exp((beta * x) + alpha))\n",
    "\n",
    "t_ = np.linspace(-1, 3, 30)[:, None]\n",
    "p_t = logistic(t_.T, beta_samples_1d_, alpha_samples_1d_).numpy()\n",
    "mean_prob_t = logistic(t_.T, beta_mean, alpha_mean)"
   ]
  },
  {
   "cell_type": "code",
   "execution_count": 72,
   "metadata": {},
   "outputs": [
    {
     "data": {
      "text/plain": [
       "Text(0.5, 0, 'passenger class')"
      ]
     },
     "execution_count": 72,
     "metadata": {},
     "output_type": "execute_result"
    },
    {
     "data": {
      "image/png": "[encoded data removed]",
      "text/plain": [
       "<Figure size 900x288 with 1 Axes>"
      ]
     },
     "metadata": {
      "needs_background": "light"
     },
     "output_type": "display_data"
    }
   ],
   "source": [
    "plt.figure(figsize(12.5, 4))\n",
    "\n",
    "plt.plot(t_, mean_prob_t.numpy().T, lw=3, label=\"average posterior \\nprobability \\\n",
    "of defect\")\n",
    "plt.plot(t_, p_t.T[:, 0], ls=\"--\", label=\"realization from posterior\")\n",
    "plt.bar([0,1,2], pd.DataFrame(titanic_data.numpy()).groupby(0).mean().values.reshape(1,-1)[0], color=\"k\",alpha=0.5)\n",
    "plt.title(\"Posterior expected odds of survival by passenger class\")\n",
    "plt.ylim(-0.1, 1.1)\n",
    "plt.xlim(t_.min(), t_.max())\n",
    "plt.ylabel(\"probability of survival\")\n",
    "plt.xlabel(\"passenger class\")"
   ]
  },
  {
   "cell_type": "markdown",
   "metadata": {},
   "source": [
    "## Generating a distribution from each class"
   ]
  },
  {
   "cell_type": "code",
   "execution_count": 73,
   "metadata": {},
   "outputs": [],
   "source": [
    "def double_joint_log_prob(obsA, obsB, obsC,\n",
    "                probA, probB, probC):\n",
    "\n",
    "\n",
    "    rv_prob_A = tfd.Uniform(low=0., high=1.)\n",
    "    rv_prob_B = tfd.Uniform(low=0., high=1.)\n",
    "    rv_prob_C = tfd.Uniform(low=0, high=1.)\n",
    "\n",
    "    rv_obs_A = tfd.Bernoulli(probs=probA)\n",
    "    rv_obs_B = tfd.Bernoulli(probs=probB)\n",
    "    rv_obs_C = tfd.Bernoulli(probs=probC)\n",
    "\n",
    "    probability = (rv_prob_A.log_prob(probA)\n",
    "        + rv_prob_B.log_prob(probB)\n",
    "        + rv_prob_C.log_prob(probC)\n",
    "        + tf.reduce_sum(rv_obs_A.log_prob(obsA))\n",
    "        + tf.reduce_sum(rv_obs_B.log_prob(obsB))\n",
    "        + tf.reduce_sum(rv_obs_C.log_prob(obsC)))\n",
    "\n",
    "    return probability"
   ]
  },
  {
   "cell_type": "markdown",
   "metadata": {},
   "source": [
    "## Setting parameters for MCMC\n",
    "Chain initial state is where we will start exploring the space.  We'll use the mean of the observations."
   ]
  },
  {
   "cell_type": "code",
   "execution_count": 74,
   "metadata": {},
   "outputs": [],
   "source": [
    "\n",
    "number_of_steps = 30000 \n",
    "burnin = 8000 \n",
    "leapfrog_steps=5\n",
    "\n",
    "\n",
    "# Set the chain's start state.\n",
    "initial_chain_state = [    \n",
    "    tf.reduce_mean(tf.cast(first,tf.float32)),\n",
    "    tf.reduce_mean(tf.cast(second,tf.float32)),\n",
    "    tf.reduce_mean(tf.cast(third,tf.float32))\n",
    "]\n",
    "\n",
    "\n",
    "# Define a closure over our joint_log_prob.\n",
    "unnormalized_posterior_log_prob = lambda *args: double_joint_log_prob(first, second, third, *args)"
   ]
  },
  {
   "cell_type": "code",
   "execution_count": 75,
   "metadata": {},
   "outputs": [],
   "source": [
    "# Create an HMC TransitionKernel\n",
    "hmc_kernel = tfp.mcmc.HamiltonianMonteCarlo(\n",
    "                target_log_prob_fn=unnormalized_posterior_log_prob,\n",
    "                 step_size=0.065,\n",
    "                 num_leapfrog_steps=leapfrog_steps)"
   ]
  },
  {
   "cell_type": "markdown",
   "metadata": {},
   "source": [
    "## Sample the Chain\n",
    "Generate samples from our chain"
   ]
  },
  {
   "cell_type": "code",
   "execution_count": 76,
   "metadata": {},
   "outputs": [],
   "source": [
    "# Apply a simple step size adaptation during burnin\n",
    "@tf.function\n",
    "def run_chain():\n",
    "  adaptive_kernel = tfp.mcmc.SimpleStepSizeAdaptation(\n",
    "    hmc_kernel,\n",
    "      num_adaptation_steps=int(.8 * burnin),\n",
    "      target_accept_prob=np.float64(.65))\n",
    "\n",
    "  return tfp.mcmc.sample_chain(\n",
    "    num_results=number_of_steps,\n",
    "    num_burnin_steps=burnin,\n",
    "    current_state=initial_chain_state,\n",
    "    kernel=adaptive_kernel,\n",
    "    trace_fn=lambda cs, kr: kr)"
   ]
  },
  {
   "cell_type": "code",
   "execution_count": 77,
   "metadata": {},
   "outputs": [],
   "source": [
    "samples, kernel_results = run_chain()"
   ]
  },
  {
   "cell_type": "code",
   "execution_count": 78,
   "metadata": {},
   "outputs": [
    {
     "data": {
      "image/png": "[encoded data removed]",
      "text/plain": [
       "<Figure size 900x900 with 4 Axes>"
      ]
     },
     "metadata": {
      "needs_background": "light"
     },
     "output_type": "display_data"
    }
   ],
   "source": [
    "plt.figure(figsize(12.5, 12.5))\n",
    "\n",
    "#histogram of posteriors\n",
    "\n",
    "ax = plt.subplot(411)\n",
    "\n",
    "plt.xlim(0.2, .8)\n",
    "plt.hist(samples[0].numpy(), histtype='stepfilled', bins=25, alpha=0.85,\n",
    "         label=\"posterior of $p_A$\", color='#FAA43A', density=True)\n",
    "plt.vlines(first.mean(), 0, 80, linestyle=\"--\", label=\"true $p_A$ (unknown)\")\n",
    "plt.legend(loc=\"upper right\")\n",
    "plt.title(\"Likelihood of surviving as a First Class passenger\")\n",
    "\n",
    "ax = plt.subplot(412)\n",
    "\n",
    "plt.xlim(0.2, .8)\n",
    "plt.hist(samples[1].numpy(), histtype='stepfilled', bins=25, alpha=0.85,\n",
    "         label=\"posterior distribution$\", color='#B2912F', density=True)\n",
    "plt.vlines(second.mean(), 0, 80, linestyle=\"--\", label=\"mean\")\n",
    "plt.legend(loc=\"upper right\")\n",
    "plt.title(\"Likelihood of surviving as a Second Class passenger\")\n",
    "\n",
    "ax = plt.subplot(413)\n",
    "\n",
    "plt.xlim(0.2, .8)\n",
    "plt.hist(samples[2].numpy(), histtype='stepfilled', bins=25, alpha=0.85,\n",
    "         label=\"posterior distribution\", color='#FAA43A', density=True)\n",
    "plt.vlines(third.mean(), 0, 80, linestyle=\"--\", label=\"mean\")\n",
    "plt.legend(loc=\"upper right\")\n",
    "plt.title(\"Likelihood of surviving as a Third Class passenger\")\n",
    "\n",
    "ax = plt.subplot(414)\n",
    "plt.hist((samples[0]-samples[2]).numpy(), histtype='stepfilled', bins=30, alpha=0.85,\n",
    "         label=\"delta distribution\", color='#4D4D4D', density=True)\n",
    "plt.vlines(first.mean() - third.mean(), 0, 60, linestyle=\"--\",\n",
    "           label=\"true mean\")\n",
    "plt.vlines(0, 0, 60, color=\"black\", alpha=0.2)\n",
    "plt.legend(loc=\"upper right\");"
   ]
  },
  {
   "cell_type": "code",
   "execution_count": null,
   "metadata": {},
   "outputs": [],
   "source": []
  }
 ],
 "metadata": {
  "interpreter": {
   "hash": "3535aee1e8e09eab6e4bb88175a2b0fb378f01afde7356b9e524ee52c517df62"
  },
  "kernelspec": {
   "display_name": "Python 3.7.11 64-bit ('tf': conda)",
   "name": "python3"
  },
  "language_info": {
   "codemirror_mode": {
    "name": "ipython",
    "version": 3
   },
   "file_extension": ".py",
   "mimetype": "text/x-python",
   "name": "python",
   "nbconvert_exporter": "python",
   "pygments_lexer": "ipython3",
   "version": "3.7.11"
  },
  "orig_nbformat": 4
 },
 "nbformat": 4,
 "nbformat_minor": 2
}
